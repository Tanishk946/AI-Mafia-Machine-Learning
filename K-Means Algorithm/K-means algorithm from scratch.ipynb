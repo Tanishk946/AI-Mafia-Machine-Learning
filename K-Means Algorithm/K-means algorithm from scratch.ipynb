{
 "cells": [
  {
   "cell_type": "code",
   "execution_count": 1,
   "metadata": {},
   "outputs": [],
   "source": [
    "#import required librarires\n",
    "import numpy as np\n",
    "import pandas as pd\n",
    "import matplotlib.pyplot as plt"
   ]
  },
  {
   "cell_type": "code",
   "execution_count": 2,
   "metadata": {},
   "outputs": [],
   "source": [
    "from sklearn.datasets import make_blobs"
   ]
  },
  {
   "cell_type": "code",
   "execution_count": 3,
   "metadata": {},
   "outputs": [],
   "source": [
    "#make_blobs is used for data generation\n",
    "make_blobs?"
   ]
  },
  {
   "cell_type": "code",
   "execution_count": 4,
   "metadata": {},
   "outputs": [],
   "source": [
    "x,y=make_blobs(n_samples=1000,n_features=2,centers=5,random_state=10)"
   ]
  },
  {
   "cell_type": "code",
   "execution_count": 5,
   "metadata": {},
   "outputs": [
    {
     "data": {
      "image/png": "[encoded data removed]",
      "text/plain": [
       "<Figure size 432x288 with 1 Axes>"
      ]
     },
     "metadata": {
      "needs_background": "light"
     },
     "output_type": "display_data"
    }
   ],
   "source": [
    "plt.scatter(x[:,0],x[:,1])#plotting the dataset acquired\n",
    "plt.show()"
   ]
  },
  {
   "cell_type": "code",
   "execution_count": 6,
   "metadata": {},
   "outputs": [],
   "source": [
    "k=5 #number of centres taken is 5\n",
    "colors=[\"green\",\"blue\",\"red\",\"yellow\",\"gray\"]#to assign a unique color for each cluster\n",
    "clusters={}\n",
    "for each_cluster in range(k):\n",
    "    #step 1: To initialize cluster centers randomly\n",
    "    center=10*(2*np.random.random((x.shape[1],))-1)#chose random points from the range -10 to 10 as the range of x-axis in graph is from -10 to 10\n",
    "    points=[]\n",
    "    cluster={\n",
    "        'center':center,#store the centre\n",
    "        'points':points,#store the points of coreresponding cluster\n",
    "        'color':colors[each_cluster]#store color of corresponding cluster\n",
    "    }\n",
    "    clusters[each_cluster]=cluster#store the all clusters info in a cluster dictionary"
   ]
  },
  {
   "cell_type": "code",
   "execution_count": 7,
   "metadata": {},
   "outputs": [
    {
     "data": {
      "text/plain": [
       "{0: {'center': array([0.79208097, 1.33603195]),\n",
       "  'points': [],\n",
       "  'color': 'green'},\n",
       " 1: {'center': array([ 1.68702863, -4.41630633]),\n",
       "  'points': [],\n",
       "  'color': 'blue'},\n",
       " 2: {'center': array([-7.02953097, -2.35341884]),\n",
       "  'points': [],\n",
       "  'color': 'red'},\n",
       " 3: {'center': array([-0.87084995, -4.81002385]),\n",
       "  'points': [],\n",
       "  'color': 'yellow'},\n",
       " 4: {'center': array([-3.53385613,  8.43128045]),\n",
       "  'points': [],\n",
       "  'color': 'gray'}}"
      ]
     },
     "execution_count": 7,
     "metadata": {},
     "output_type": "execute_result"
    }
   ],
   "source": [
    "clusters#print the clusters dictionary(info acquired till now regarding to each cluster)"
   ]
  },
  {
   "cell_type": "code",
   "execution_count": 8,
   "metadata": {},
   "outputs": [],
   "source": [
    "#step 2: Distance and assigning points to the clusters"
   ]
  },
  {
   "cell_type": "code",
   "execution_count": 9,
   "metadata": {},
   "outputs": [],
   "source": [
    "#return euclidean distance between 2 points(vectors)\n",
    "def distance(v1,v2):\n",
    "    return np.sqrt(np.sum((v1-v2)**2))"
   ]
  },
  {
   "cell_type": "code",
   "execution_count": 10,
   "metadata": {},
   "outputs": [],
   "source": [
    "#Assigning every data point to one of the cluster\n",
    "#Expectation Step(E-step)\n",
    "def assignPointsToClusters(clusters):\n",
    "    for every_data_point in range(x.shape[0]):#iterate over all the points in the cluster\n",
    "        curr_x = x[every_data_point]\n",
    "        dist=[]\n",
    "        for kx in range(k):#findout distance from everypoint to centre of every cluster\n",
    "            d=distance(curr_x,clusters[kx]['center'])\n",
    "            dist.append(d)\n",
    "        current_cluster=np.argmin(dist)#retrieve the cluster which is shortest distance from the current point\n",
    "        clusters[current_cluster]['points'].append(curr_x)"
   ]
  },
  {
   "cell_type": "code",
   "execution_count": 11,
   "metadata": {},
   "outputs": [],
   "source": [
    "#step 3\n",
    "#Minimisation Step(M-Step)\n",
    "# update your cluster center by taking mean\n",
    "\n",
    "def updateClusters(clusters):\n",
    "    for kx in range(k):\n",
    "        pts=np.array(clusters[kx]['points'])#retrieve the points from the corresponding cluster\n",
    "        if pts.shape[0]>0:\n",
    "            #finding the mean\n",
    "            new_u=pts.mean(axis=0)\n",
    "            clusters[kx]['center']=new_u#assigining the updated center\n",
    "            clusters[kx]['points']=[]#emptying the points array for the next cluster points"
   ]
  },
  {
   "cell_type": "code",
   "execution_count": 12,
   "metadata": {},
   "outputs": [],
   "source": [
    "#plot the clusters with updated centres\n",
    "def plotClusters(clusters):\n",
    "    for kx in range(k):\n",
    "        pts=np.array(clusters[kx]['points'])#retrieve the points from the corresponding cluster\n",
    "        if pts.shape[0]>0:#if there are points in the corresponding cluster\n",
    "            plt.scatter(pts[:,0],pts[:,1],color=clusters[kx]['color'])\n",
    "        plt.scatter(clusters[kx]['center'][0],clusters[kx]['center'][1],color='black',marker='*')"
   ]
  },
  {
   "cell_type": "code",
   "execution_count": 13,
   "metadata": {},
   "outputs": [
    {
     "data": {
      "image/png": "[encoded data removed]",
      "text/plain": [
       "<Figure size 432x288 with 1 Axes>"
      ]
     },
     "metadata": {
      "needs_background": "light"
     },
     "output_type": "display_data"
    }
   ],
   "source": [
    "assignPointsToClusters(clusters)\n",
    "plotClusters(clusters)\n"
   ]
  },
  {
   "cell_type": "code",
   "execution_count": 14,
   "metadata": {},
   "outputs": [],
   "source": [
    "# repeat these three functions few times for updation of cluster centres\n",
    "#Because of updation of cluster centre a better cluster can be formed\n",
    "\n",
    "count = 0\n",
    "while True:\n",
    "    assignPointsToClusters(clusters)\n",
    "    updateClusters(clusters)\n",
    "    count+=1\n",
    "    if(count >= 100):\n",
    "        break"
   ]
  },
  {
   "cell_type": "code",
   "execution_count": 15,
   "metadata": {},
   "outputs": [
    {
     "data": {
      "image/png": "[encoded data removed]",
      "text/plain": [
       "<Figure size 432x288 with 1 Axes>"
      ]
     },
     "metadata": {
      "needs_background": "light"
     },
     "output_type": "display_data"
    }
   ],
   "source": [
    "assignPointsToClusters(clusters)\n",
    "plotClusters(clusters)"
   ]
  },
  {
   "cell_type": "code",
   "execution_count": null,
   "metadata": {},
   "outputs": [],
   "source": []
  }
 ],
 "metadata": {
  "kernelspec": {
   "display_name": "Python 3",
   "language": "python",
   "name": "python3"
  },
  "language_info": {
   "codemirror_mode": {
    "name": "ipython",
    "version": 3
   },
   "file_extension": ".py",
   "mimetype": "text/x-python",
   "name": "python",
   "nbconvert_exporter": "python",
   "pygments_lexer": "ipython3",
   "version": "3.8.3"
  }
 },
 "nbformat": 4,
 "nbformat_minor": 4
}
