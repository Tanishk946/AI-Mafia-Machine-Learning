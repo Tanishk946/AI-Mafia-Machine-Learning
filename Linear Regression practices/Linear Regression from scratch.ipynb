{
 "cells": [
  {
   "cell_type": "code",
   "execution_count": 2,
   "metadata": {},
   "outputs": [],
   "source": [
    "import numpy as np\n",
    "import pandas as pd\n",
    "import matplotlib.pyplot as plt"
   ]
  },
  {
   "cell_type": "code",
   "execution_count": 8,
   "metadata": {},
   "outputs": [
    {
     "name": "stdout",
     "output_type": "stream",
     "text": [
      "(99, 1)\n",
      "[0.99007 0.99769 0.99386 0.99508 0.9963  1.0032  0.99768 0.99584 0.99609\n",
      " 0.99774 1.0003  0.99694 0.99965 0.99549 0.99364 0.99378 0.99379 0.99524\n",
      " 0.9988  0.99733 0.9966  0.9955  0.99471 0.99354 0.99786 0.9965  0.9988\n",
      " 0.9964  0.99713 0.9985  0.99565 0.99578 0.9976  1.0014  0.99685 0.99648\n",
      " 0.99472 0.99914 0.99408 0.9974  1.0002  0.99402 0.9966  0.99402 1.0029\n",
      " 0.99718 0.9986  0.9952  0.9952  0.9972  0.9976  0.9968  0.9978  0.9951\n",
      " 0.99629 0.99656 0.999   0.99836 0.99396 0.99387 1.0004  0.9972  0.9972\n",
      " 0.99546 0.9978  0.99596 0.99572 0.9992  0.99544 0.99747 0.99668 0.9962\n",
      " 0.99346 0.99514 0.99476 1.001   0.9961  0.99598 0.99608 0.9966  0.99732\n",
      " 0.9962  0.99546 0.99738 0.99456 0.9966  0.99553 0.9984  0.9952  0.997\n",
      " 0.99586 0.9984  0.99542 0.99655 0.9962  0.9976  0.99464 0.9983  0.9967 ]\n"
     ]
    }
   ],
   "source": [
    "dfx=pd.read_csv('linearX.csv')\n",
    "dfy=pd.read_csv('linearY.csv')\n",
    "\n",
    "#converting data to numpy array\n",
    "dfx=dfx.values\n",
    "dfy=dfy.values\n",
    "print(dfy.shape)\n",
    "\n",
    "#interchanging n*1 array to n*? array (? denotes any dimension)\n",
    "x=dfx.reshape((-1,))\n",
    "y=dfy.reshape((-1,))\n",
    "print(y)"
   ]
  },
  {
   "cell_type": "markdown",
   "metadata": {},
   "source": [
    "# Data preprocessing and Visualisation"
   ]
  },
  {
   "cell_type": "code",
   "execution_count": 10,
   "metadata": {},
   "outputs": [
    {
     "data": {
      "image/png": "[encoded data removed]",
      "text/plain": [
       "<Figure size 432x288 with 1 Axes>"
      ]
     },
     "metadata": {
      "needs_background": "light"
     },
     "output_type": "display_data"
    }
   ],
   "source": [
    "#normalising the data that is shifting the points from origin\n",
    "#normalising is done because to adjust the values into a given range.\n",
    "#for ex: a dataset consists of points (1,2) and (10000,2) the normalization converts the points into a range like [0,100]\n",
    "x=(x-x.mean())/x.std()\n",
    "y=y\n",
    "plt.scatter(x,y)\n",
    "plt.show()"
   ]
  },
  {
   "cell_type": "markdown",
   "metadata": {},
   "source": [
    "# Gradient Descent Algorithm"
   ]
  },
  {
   "cell_type": "code",
   "execution_count": 14,
   "metadata": {},
   "outputs": [],
   "source": [
    "def hypothesis(x,theta):\n",
    "    return theta[0]+theta[1]*x #hx=mx+c linear equation,where theta[0]=c and theta[1]=m"
   ]
  },
  {
   "cell_type": "code",
   "execution_count": 26,
   "metadata": {},
   "outputs": [],
   "source": [
    "#calculating mean square error\n",
    "#mse is chosen because it creates a parabola function and when a line is drawn it creates a convex function\n",
    "#so the gradient descent converges to a local minimum\n",
    "#if we divide the error by x.shape[0],then we also divide the gradient by 2*x.shape[0]\n",
    "def error(x,y,theta):\n",
    "    error=0\n",
    "    for i in range(x.shape[0]):#x.shape[0] gives the number of points(records) in the dataset\n",
    "        hx=hypothesis(x[i],theta)\n",
    "        error+=(hx-y[i])**2  #mse calculation\n",
    "    return error #(or) error/x.shape[0]"
   ]
  },
  {
   "cell_type": "code",
   "execution_count": 23,
   "metadata": {},
   "outputs": [],
   "source": [
    "#the grad list contains the number of  rows in theta i.e the number of factors that influence the target value\n",
    "#the given data is of single variable linear regression,so it consists only m,c\n",
    "def gradient(x,y,theta):\n",
    "    grad=np.zeros((theta.shape))#theta.shape=number of factors affecting the target variable\n",
    "    for i in range(x.shape[0]):\n",
    "        hx=hypothesis(x[i],theta)\n",
    "        #j=predicted value-exact value i.e., j=hx-y => j=mx+c-y\n",
    "        #partially differentiating j with respect to c=> grad[0]=mx+c-y\n",
    "        grad[0]+=(hx-y[i])\n",
    "        #partially differentiating j with respect to m=> grad[1]=(mx+c-y)*x\n",
    "        grad[1]+=(hx-y[i])*x[i]\n",
    "    return grad #(or) grad/x.shape[0]"
   ]
  },
  {
   "cell_type": "code",
   "execution_count": 6,
   "metadata": {},
   "outputs": [],
   "source": [
    "#applying the gradient descent\n",
    "#using the update rule of theta\n",
    "def gradientdescent(x,y,alpha=0.001):\n",
    "    #alpha=0.001 is mostly preferred value as high alpha may miss the optimal minimum in the parabola\n",
    "    #low alpha makes the model's learning rate slow\n",
    "    #assigning random theta values that is random m and c values\n",
    "    theta=np.array([-2.0,0.0])\n",
    "    max_iter=100\n",
    "    itr=0\n",
    "    error_list=[]\n",
    "    theta_list=[]\n",
    "    while(itr<=max_iter):\n",
    "        grad=gradient(x,y,theta)\n",
    "        err=error(x,y,theta)\n",
    "        error_list.append(err)\n",
    "        theta_list.append(theta)\n",
    "        #here we subtract value from theta because we have to meet the local minimum that means move down to the parabola\n",
    "        #update rule of theta[0]=theta[0]-alpha*differentiated part\n",
    "        theta[0]-=alpha*grad[0]\n",
    "        #update rule of theta[1]=theta[1]-alpha*differentiated part\n",
    "        theta[1]-=alpha*grad[1]\n",
    "        itr+=1\n",
    "    return theta,error_list,theta_list"
   ]
  },
  {
   "cell_type": "code",
   "execution_count": 27,
   "metadata": {},
   "outputs": [],
   "source": [
    "#final_theta gives the m and c values for the expected line\n",
    "final_theta,error_list,theta_list=gradientdescent(x,y)"
   ]
  },
  {
   "cell_type": "code",
   "execution_count": 28,
   "metadata": {},
   "outputs": [
    {
     "data": {
      "image/png": "[encoded data removed]",
      "text/plain": [
       "<Figure size 432x288 with 1 Axes>"
      ]
     },
     "metadata": {
      "needs_background": "light"
     },
     "output_type": "display_data"
    }
   ],
   "source": [
    "plt.plot(error_list)\n",
    "plt.show()\n"
   ]
  },
  {
   "cell_type": "code",
   "execution_count": 29,
   "metadata": {},
   "outputs": [
    {
     "name": "stdout",
     "output_type": "stream",
     "text": [
      "[0.996554  0.0013579]\n"
     ]
    }
   ],
   "source": [
    "print(final_theta)"
   ]
  },
  {
   "cell_type": "code",
   "execution_count": 30,
   "metadata": {},
   "outputs": [],
   "source": [
    "#plot the line for testing data\n",
    "xtest=np.linspace(1,8,10)"
   ]
  },
  {
   "cell_type": "code",
   "execution_count": 37,
   "metadata": {},
   "outputs": [
    {
     "data": {
      "image/png": "[encoded data removed]",
      "text/plain": [
       "<Figure size 432x288 with 1 Axes>"
      ]
     },
     "metadata": {
      "needs_background": "light"
     },
     "output_type": "display_data"
    }
   ],
   "source": [
    "plt.scatter(x,y,label=\"Training data\")\n",
    "plt.plot(xtest,hypothesis(xtest,final_theta),color='orange',label='prediction')\n",
    "plt.legend()\n",
    "plt.show()"
   ]
  }
 ],
 "metadata": {
  "kernelspec": {
   "display_name": "Python 3",
   "language": "python",
   "name": "python3"
  },
  "language_info": {
   "codemirror_mode": {
    "name": "ipython",
    "version": 3
   },
   "file_extension": ".py",
   "mimetype": "text/x-python",
   "name": "python",
   "nbconvert_exporter": "python",
   "pygments_lexer": "ipython3",
   "version": "3.8.3"
  }
 },
 "nbformat": 4,
 "nbformat_minor": 4
}
