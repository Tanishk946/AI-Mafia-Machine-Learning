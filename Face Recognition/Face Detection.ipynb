{
 "cells": [
  {
   "cell_type": "markdown",
   "metadata": {},
   "source": [
    "# Working of Face Recognition"
   ]
  },
  {
   "cell_type": "code",
   "execution_count": 1,
   "metadata": {},
   "outputs": [],
   "source": [
    "#captures images from the webcam video stream\n",
    "#Extracts all faces from the image frame(using haarcascades)\n",
    "#stores the Face information into numpy arrays"
   ]
  },
  {
   "cell_type": "code",
   "execution_count": 2,
   "metadata": {},
   "outputs": [],
   "source": [
    "#Read and show video stream,capture images\n",
    "#Detect Faces and show bounding bix(haarcascade)\n",
    "#Flatten the largest face image(gray scale) and save in a numpy array\n",
    "#Repeat the above steps for multiple people to generate training data"
   ]
  },
  {
   "cell_type": "markdown",
   "metadata": {},
   "source": [
    "# Haarcascade Classifier"
   ]
  },
  {
   "cell_type": "code",
   "execution_count": 3,
   "metadata": {},
   "outputs": [],
   "source": [
    "#it is a pre-trained classifier on convolutional neural networks\n",
    "#it uses adnaboot and will read the frontal face of the cam\n",
    "#it has many classifiers like eye recognition,face recognition etc.."
   ]
  },
  {
   "cell_type": "code",
   "execution_count": 4,
   "metadata": {},
   "outputs": [],
   "source": [
    "#Haarcascade is used to draw a outer bound of the face\n",
    "#the code written in the xml file will bound the face"
   ]
  },
  {
   "cell_type": "markdown",
   "metadata": {},
   "source": [
    "# Script"
   ]
  },
  {
   "cell_type": "code",
   "execution_count": 5,
   "metadata": {},
   "outputs": [
    {
     "name": "stdout",
     "output_type": "stream",
     "text": [
      "Requirement already satisfied: opencv-python in c:\\users\\lavanya rajeswari\\anaconda3\\lib\\site-packages (4.4.0.46)\n",
      "Requirement already satisfied: numpy>=1.17.3 in c:\\users\\lavanya rajeswari\\anaconda3\\lib\\site-packages (from opencv-python) (1.18.5)\n"
     ]
    },
    {
     "name": "stderr",
     "output_type": "stream",
     "text": [
      "WARNING: You are using pip version 20.2.4; however, version 20.3.3 is available.\n",
      "You should consider upgrading via the 'C:\\Users\\lavanya rajeswari\\anaconda3\\python.exe -m pip install --upgrade pip' command.\n"
     ]
    }
   ],
   "source": [
    "#opencv-python library contains cv2 module(library)\n",
    "!pip3 install opencv-python"
   ]
  },
  {
   "cell_type": "code",
   "execution_count": 6,
   "metadata": {},
   "outputs": [],
   "source": [
    "#importing required librarires\n",
    "import cv2 #computervision\n",
    "import numpy as np"
   ]
  },
  {
   "cell_type": "code",
   "execution_count": 7,
   "metadata": {},
   "outputs": [
    {
     "name": "stdout",
     "output_type": "stream",
     "text": [
      "Enter the name of the person:Tanishk\n",
      "100\n",
      "100\n",
      "100\n",
      "100\n",
      "100\n",
      "100\n",
      "100\n",
      "100\n",
      "100\n",
      "100\n",
      "100\n",
      "100\n",
      "100\n",
      "100\n",
      "100\n",
      "100\n",
      "100\n",
      "100\n",
      "100\n",
      "100\n",
      "100\n",
      "100\n",
      "100\n",
      "100\n",
      "100\n",
      "100\n",
      "100\n",
      "100\n",
      "100\n",
      "100\n",
      "100\n",
      "100\n",
      "100\n",
      "100\n",
      "100\n",
      "100\n",
      "100\n",
      "100\n",
      "100\n",
      "100\n",
      "100\n",
      "100\n",
      "100\n",
      "100\n",
      "100\n",
      "100\n",
      "100\n",
      "100\n",
      "100\n",
      "100\n",
      "100\n",
      "100\n",
      "100\n",
      "100\n",
      "100\n",
      "(55, 10000)\n",
      "Data Saved Successfully:\n"
     ]
    }
   ],
   "source": [
    "#Initialise the webcam\n",
    "cap = cv2.VideoCapture(0)#id'0' represents the default webcam.If there are multiple webcams then there are multiple id's.\n",
    "\n",
    "#Face Detection\n",
    "face_cascade=cv2.CascadeClassifier(\"haarcascade_frontalface_alt.xml\")\n",
    "\n",
    "face_data=[]#training data\n",
    "dataset_path=\"./data/\"\n",
    "file_name=input(\"Enter the name of the person:\")\n",
    "#Read Images from the webcam\n",
    "while True:\n",
    "    ret, frame=cap.read()#read frames from the webcam\n",
    "    #returns 2 values\n",
    "    #ret is a boolean value that represents a frame is captured or not\n",
    "    #frame has the captured frame\n",
    "    if ret==False:\n",
    "        continue\n",
    "    gray_frame=cv2.cvtColor(frame,cv2.COLOR_BGR2GRAY)#converts BGR image to grayscale. In simple words converts color image to greyscale image\n",
    "    faces=face_cascade.detectMultiScale(gray_frame,1.3,5)#applying facebound(haarcascade) on the frame\n",
    "    #the faces object returns a tuple which contains (x,y) co-ordintes->start point and width,height\n",
    "    if(len(faces)==0):#if no faces\n",
    "        continue\n",
    "    faces=sorted(faces,key=lambda f:f[2]*f[3])#sort the faces based on the area,the largest face has largest area, f[2] is width, f[3] is height\n",
    "    #pick the last face(because it has the largest area)\n",
    "    for face in faces[-1:]:\n",
    "        #draw bounding box for the rectangle\n",
    "        x,y,w,h=face\n",
    "        cv2.rectangle(gray_frame, (x,y), (x+w,y+h), (0,255,255), 2)#plot rectangle frame, last 2 parameters indicate rgb color, thcikness of the frame \n",
    "        #extract(crop out the required face) : region of interest\n",
    "        offset=10#offset is for the extra width and height\n",
    "        face_section=gray_frame[y-offset:y+h+offset,x-offset:x+w+offset]#1st pass y-coordinate then the x-coordinate\n",
    "        face_section=cv2.resize(face_section,(100,100))#resize image to 100*100 pixels\n",
    "        face_data.append(face_section)\n",
    "        print(len(face_section))\n",
    "    #cv2.imshow(\"Frame\",frame)#shows the captured frame\n",
    "    cv2.imshow(\"gray_frame\",gray_frame)#shows the captured frame in grayscale mode\n",
    "    #the capture(while loop) should be stopped when a key is pressed\n",
    "    key_pressed=cv2.waitKey(1)#waits for some milliseconds and returns an integer and the 1st 8-bits represent ascii value of the key pressed\n",
    "    key_pressed=key_pressed & 0xFF #bit-masking for retrieving the 1st 8-bits\n",
    "    if key_pressed == ord('q'):#if 'q' is pressed on keyboard then image reading is stopped\n",
    "        break\n",
    "#convert face data into numpy array\n",
    "face_data=np.asarray(face_data)\n",
    "face_data=face_data.reshape((face_data.shape[0],-1))\n",
    "print(face_data.shape)\n",
    "\n",
    "#save this data into file system\n",
    "np.save(dataset_path+file_name+'.npy',face_data)\n",
    "print(\"Data Saved Successfully!\")\n",
    "\n",
    "cap.release()#release the object\n",
    "cv2.destroyAllWindows()#destroy(close) all the windows(means stop running the video capture)"
   ]
  },
  {
   "cell_type": "code",
   "execution_count": null,
   "metadata": {},
   "outputs": [],
   "source": []
  },
  {
   "cell_type": "code",
   "execution_count": null,
   "metadata": {},
   "outputs": [],
   "source": []
  },
  {
   "cell_type": "code",
   "execution_count": null,
   "metadata": {},
   "outputs": [],
   "source": []
  }
 ],
 "metadata": {
  "kernelspec": {
   "display_name": "Python 3",
   "language": "python",
   "name": "python3"
  },
  "language_info": {
   "codemirror_mode": {
    "name": "ipython",
    "version": 3
   },
   "file_extension": ".py",
   "mimetype": "text/x-python",
   "name": "python",
   "nbconvert_exporter": "python",
   "pygments_lexer": "ipython3",
   "version": "3.8.3"
  }
 },
 "nbformat": 4,
 "nbformat_minor": 4
}
