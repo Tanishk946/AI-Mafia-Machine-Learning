{
 "cells": [
  {
   "cell_type": "code",
   "execution_count": 15,
   "metadata": {},
   "outputs": [],
   "source": [
    "import smtplib #protocol to send and receive mail\n",
    "import getpass #extracts password from the user\n",
    "from email.mime.text import MIMEText #conversation between the users"
   ]
  },
  {
   "cell_type": "code",
   "execution_count": 17,
   "metadata": {},
   "outputs": [
    {
     "name": "stdout",
     "output_type": "stream",
     "text": [
      "Enter the sender mail addresstanishkmahesh@gmail.com\n",
      "Enter the password\n",
      "········\n",
      "Enter the subjectLearn.Inspire.Grow\n",
      "Enter the messagehola\n",
      "Enter receiver addressgtvmaheshbabu.18.cse@anits.edu.in\n"
     ]
    }
   ],
   "source": [
    "def send_email():\n",
    "    sender_address=input(\"Enter the sender mail address\")\n",
    "    print(\"Enter the password\")\n",
    "    password=getpass.getpass()\n",
    "    subject=input(\"Enter the subject\")\n",
    "    msg=input(\"Enter the message\")\n",
    "    \n",
    "    #server initialization\n",
    "    server=smtplib.SMTP('smtp.gmail.com',587) #enable the smtp server which is by default in port 587\n",
    "    server.starttls() #initializes the smtp server by sending a tls handshake\n",
    "    server.login(sender_address,password)\n",
    "    \n",
    "    #draft message body\n",
    "    msg=MIMEText(msg)\n",
    "    msg['Subject']=subject\n",
    "    msg['From']=sender_address\n",
    "    msg['To']=input(\"Enter receiver address\")\n",
    "    recepients=msg['To']\n",
    "    #for sending an email to multiple persons,pass an array to recepients like shown below\n",
    "    #recepients=['gtvmaheshbabu.18.cse@anits','abcd123@gmail.com','123sdc@jd.com']\n",
    "    \n",
    "    \n",
    "    server.sendmail(sender_address,recepients,msg.as_string())\n",
    "send_email()"
   ]
  },
  {
   "cell_type": "code",
   "execution_count": null,
   "metadata": {},
   "outputs": [],
   "source": []
  }
 ],
 "metadata": {
  "kernelspec": {
   "display_name": "Python 3",
   "language": "python",
   "name": "python3"
  },
  "language_info": {
   "codemirror_mode": {
    "name": "ipython",
    "version": 3
   },
   "file_extension": ".py",
   "mimetype": "text/x-python",
   "name": "python",
   "nbconvert_exporter": "python",
   "pygments_lexer": "ipython3",
   "version": "3.8.3"
  }
 },
 "nbformat": 4,
 "nbformat_minor": 4
}
