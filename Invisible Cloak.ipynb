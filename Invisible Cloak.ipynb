{
 "cells": [
  {
   "cell_type": "markdown",
   "metadata": {},
   "source": [
    "### Algorithm(Logic) behind Invisible cloak\n",
    "- Capturing the live feed of the person\n",
    "- Breaking the feed into images(frames)\n",
    "- On the frames, implementing image segmentation(image segmentation is used to differentiate the cloak from the rest of the image and also for super-imposing the background image on the frame)\n",
    "- In simple words, the main logic is super-imposing 2 images"
   ]
  },
  {
   "cell_type": "markdown",
   "metadata": {},
   "source": [
    "- Before the person enters into the feed, the feed must 1st capture the background so that it can super-impose\n",
    "- if we don't show the backgound, the code wont work\n",
    "- 2 to 3 seconds is enough for the camera to capture background"
   ]
  },
  {
   "cell_type": "markdown",
   "metadata": {},
   "source": [
    "### Important points:\n",
    "- Make sure to use a cloth of uniform color to avoid noises and change hue value, corresponding to color of the cloth\n",
    "- the color of the cloth should not be matched with background for better results"
   ]
  },
  {
   "cell_type": "markdown",
   "metadata": {},
   "source": [
    "### Coding Part\n",
    "- Make sure to have python 3.0 or higher version installed"
   ]
  },
  {
   "cell_type": "code",
   "execution_count": 1,
   "metadata": {},
   "outputs": [],
   "source": [
    "# Importing Required Librraries\n",
    "import numpy as np\n",
    "import cv2\n",
    "import time #time library is used to collect the background before setting up the cloak"
   ]
  },
  {
   "cell_type": "code",
   "execution_count": 4,
   "metadata": {},
   "outputs": [],
   "source": [
    "#creating a video capture object\n",
    "cap = cv2.VideoCapture(0)#id'0' represents the default webcam.If there are multiple webcams then there are multiple id's.\n",
    "time.sleep(3)#to set up camera, as initially the camera feed is dark\n",
    "background=0#background that will be displayed when we put the cloak on\n",
    "\n",
    "#loop for capturing the background\n",
    "#30 iterations so that background can be captured multiple times, the best can be picked while we put the cloak on\n",
    "for i in range(60):\n",
    "    ret, background=cap.read()#read frames from the webcam\n",
    "    #returns 2 values\n",
    "    #ret is a boolean value that represents a frame is captured or not\n",
    "    #background has the captured frame\n",
    "while cap.isOpened():#capture the video until the person want to be captured in webcam\n",
    "    ret,img=cap.read()\n",
    "    if ret==False:\n",
    "        break\n",
    "    #HSV is preferred over RGB because in RGB, beacuse R,G,B are dependent on each other\n",
    "    #In HSV the colors change slowly and steadily and it depends on saturation\n",
    "    #saturation means darkness of color \n",
    "    \n",
    "    #HSB is independent of colors, it only depends on brightness and saturation\n",
    "    hsv=cv2.cvtColor(img,cv2.COLOR_BGR2HSV)#converts the image(RGB) to HSV format\n",
    "    #HSV(hue saturation value) is also known as HSB(B means Brightness)\n",
    "    \n",
    "    #In CV2, the hue values are reduced from 0-359 to 0-179 as cv2 can hold only 8-bits for color which is atmost 255\n",
    "    #the 0-179 values are divided into more variations\n",
    "    #In opencv the hue values are considered from 0-10 and 170-180 for red color cloak, as after 10 it starts fading out i.e., the values of another color starts\n",
    "    lower_blue=np.array([100,120,70])#HSB values->below 120-saturation and 70-brightness these are really low in which frame would be entirely in white or red or pink etc. colors\n",
    "    upper_blue=np.array([140,255,255])#hue value above 10 gives white etc.. which will not be efficient for the cloak\n",
    "    mask1=cv2.inRange(hsv,lower_blue,upper_blue)#retreiving the captured frames which are in our required range i.e., seperating the cloak part\n",
    "    \n",
    "    #also our required frames also has hue values from 170-180, creating another array to capture frames in 170-180 range.\n",
    "    lower_red=np.array([0,120,70])\n",
    "    upper_red=np.array([10,255,255])#max value for brightness and saturation is 255,255\n",
    "    mask2=cv2.inRange(hsv,lower_red,upper_red)\n",
    "    \n",
    "    mask1=mask1+mask2#operator overloading , it performs bitwise or operation\n",
    "    #the above line retreieves the cloak part from our captured frames\n",
    "    \n",
    "    #morphology is used to remove noise like unnecessary pixels from the frames\n",
    "    mask1=cv2.morphologyEx(mask1,cv2.MORPH_OPEN,np.ones((3,3),np.uint8),iterations=2)#removes noise from 9 pixels at a time\n",
    "    mask1=cv2.morphologyEx(mask1,cv2.MORPH_DILATE,np.ones((3,3),np.uint8),iterations=2)#Dilates(smoothens the picture 9 pixels at a time)\n",
    "    \n",
    "    mask2=cv2.bitwise_not(mask1)#applying bitwise not operation between mask2 and mask1\n",
    "    #It is used to retrieve the whole image except the cloak part\n",
    "    \n",
    "    #applying bitwise and operator between background and mask1\n",
    "    #background is the image that have to be displayed when we have the cloak over \n",
    "    res1=cv2.bitwise_and(background,background,mask=mask1)#Used for Segmentation of the color i.e., differentiating cloak from the rest of the background\n",
    "    #applying bitwise and operator between background and mask2\n",
    "    #img is the image when we are infront of the camera\n",
    "    res2=cv2.bitwise_and(img,img,mask=mask2)#Used to Substitute the Cloak part\n",
    "    final_output=cv2.addWeighted(res1,1,res2,1,0)#super-imposing 2 images\n",
    "    \n",
    "    cv2.imshow(\"Abracadabra\",final_output)\n",
    "    k=cv2.waitKey(10)\n",
    "    if k==27: #when escape key is pressed, the program stops\n",
    "        break\n",
    "cap.release()#release the object\n",
    "cv2.destroyAllWindows()#destroy(close) all the windows(means stop running the video capture)"
   ]
  },
  {
   "cell_type": "code",
   "execution_count": null,
   "metadata": {},
   "outputs": [],
   "source": []
  }
 ],
 "metadata": {
  "kernelspec": {
   "display_name": "Python 3",
   "language": "python",
   "name": "python3"
  },
  "language_info": {
   "codemirror_mode": {
    "name": "ipython",
    "version": 3
   },
   "file_extension": ".py",
   "mimetype": "text/x-python",
   "name": "python",
   "nbconvert_exporter": "python",
   "pygments_lexer": "ipython3",
   "version": "3.8.3"
  }
 },
 "nbformat": 4,
 "nbformat_minor": 4
}
